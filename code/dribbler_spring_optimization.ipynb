{
 "cells": [
  {
   "cell_type": "code",
   "execution_count": null,
   "id": "4e75aa23",
   "metadata": {},
   "outputs": [],
   "source": [
    "import numba\n",
    "import numpy as np\n",
    "import matplotlib.pyplot as plt\n",
    "from scipy.optimize import minimize, Bounds, basinhopping"
   ]
  },
  {
   "cell_type": "code",
   "execution_count": null,
   "id": "4d1dc9de",
   "metadata": {},
   "outputs": [],
   "source": [
    "# Physical constraints\n",
    "E = 1e4  # Relative tensile modululs\n",
    "t = 1.2  # Spring thickness\n",
    "\n",
    "n = 10  # Number of spring elements to compute\n",
    "keep_out_penalty = 1e9\n",
    "\n",
    "neutral_roller_center = np.array([17.58, -7.2])\n",
    "deflected_roller_center = np.array([18.62, 3.78])\n",
    "shaft_center = np.array([0, 0])\n",
    "\n",
    "roller_radius = 8\n",
    "shaft_radius = 5.5\n",
    "\n",
    "rolling_end_neutral_angle = 13.58 * np.pi / 180\n",
    "rolling_end_deflected_angle = 89 * np.pi / 180\n",
    "\n",
    "fixed_end_domain_length = 6\n",
    "rolling_end_domain_length = 8.1"
   ]
  },
  {
   "cell_type": "code",
   "execution_count": null,
   "id": "afd0947c",
   "metadata": {},
   "outputs": [],
   "source": [
    "def keep_out_check(r, origin, radius, endpoints=False):\n",
    "    if endpoints:\n",
    "        return np.sum((r - origin)**2, axis=1) < radius*radius\n",
    "    else:\n",
    "        return np.sum((r[1:-1] - origin)**2, axis=1) < radius*radius\n",
    "\n",
    "\n",
    "end_point_ds = 0.5\n",
    "def fixed_end(x):\n",
    "    return np.array([[-2 + fixed_end_domain_length*x - end_point_ds, -9.56],\n",
    "                     [-2 + fixed_end_domain_length*x, -9.56]])\n",
    "\n",
    "def rolling_end_neutral(x):\n",
    "    return np.array([[13.7 + (x*rolling_end_domain_length)*np.cos(rolling_end_neutral_angle), \n",
    "                      1 + (x*rolling_end_domain_length)*np.sin(rolling_end_neutral_angle)],\n",
    "                     [13.7 + (x*rolling_end_domain_length + end_point_ds)*np.cos(rolling_end_neutral_angle), \n",
    "                      1 + (x*rolling_end_domain_length + end_point_ds)*np.sin(rolling_end_neutral_angle)]])\n",
    "\n",
    "def rolling_end_deflected(x):\n",
    "    return np.array([[9.7 + x*rolling_end_domain_length*np.cos(rolling_end_deflected_angle),  \n",
    "                      2.1 + x*rolling_end_domain_length*np.sin(rolling_end_deflected_angle)],\n",
    "                     [9.7 + (x*rolling_end_domain_length + end_point_ds)*np.cos(rolling_end_deflected_angle),  \n",
    "                      2.1 + (x*rolling_end_domain_length + end_point_ds)*np.sin(rolling_end_deflected_angle)]])"
   ]
  },
  {
   "cell_type": "code",
   "execution_count": null,
   "id": "8fc75297",
   "metadata": {},
   "outputs": [],
   "source": [
    "#  Neutral spring postion initial guess\n",
    "guess_r0 = np.zeros([n, 2])\n",
    "guess_r0[:, 0] = np.linspace(1, 13.7, num=n+1, endpoint=False)[1:]\n",
    "guess_r0[:, 1] = (guess_r0[:, 0] - 13.7) * (10.56 / 12.7) + 1 #+ np.sin(guess_r0[:, 0]*30)*0.5\n",
    "#  Deflected spring position initial guess\n",
    "guess_r1 = np.zeros_like(guess_r0)\n",
    "guess_r1[:, 0] = np.linspace(1, 9.7, num=n+1, endpoint=False)[1:]\n",
    "guess_r1[:, 1] = (guess_r1[:, 0] - 9.7) * (11.66 / 8.7) + 2.1 #+ np.sin(guess_r1[:, 0]*30)\n",
    "\n",
    "#  Initital Guess\n",
    "x0 = np.zeros(4*n+2)\n",
    "x0[-1] = 0.5\n",
    "x0[-2] = 0\n",
    "x0[:n] = guess_r0[:, 0]\n",
    "x0[n:2*n] = guess_r0[:, 1]\n",
    "x0[2*n:3*n] = guess_r1[:, 0]\n",
    "x0[3*n:4*n] = guess_r1[:, 1]"
   ]
  },
  {
   "cell_type": "code",
   "execution_count": null,
   "id": "0a0458bc",
   "metadata": {},
   "outputs": [],
   "source": [
    "#  Plot the initial guess and keep out zones\n",
    "shaft_circle = plt.Circle(shaft_center, shaft_radius, color='r')\n",
    "neutral_roller_circle = plt.Circle(neutral_roller_center, roller_radius, color='r')\n",
    "\n",
    "\n",
    "plt.close()\n",
    "fig, ax = plt.subplots()\n",
    "plt.scatter(guess_r0[:, 0], guess_r0[:, 1])\n",
    "ax.add_patch(shaft_circle)\n",
    "ax.add_patch(neutral_roller_circle)\n",
    "\n",
    "X = np.linspace(0, 1)\n",
    "\"\"\"\n",
    "plt.scatter(list(map(lambda x: fixed_end(x)[0, 0], X)), \n",
    "            list(map(lambda x: fixed_end(x)[0, 1], X)))\n",
    "plt.scatter(list(map(lambda x: rolling_end_neutral(x)[0, 0], X)), \n",
    "            list(map(lambda x: rolling_end_neutral(x)[0, 1], X)))\n",
    "\"\"\"\n",
    "plt.title(\"Neutral Spring Initial Guess\")\n",
    "plt.axis('equal')\n",
    "plt.tight_layout()\n",
    "\n",
    "plt.show()"
   ]
  },
  {
   "cell_type": "code",
   "execution_count": null,
   "id": "328079a4",
   "metadata": {},
   "outputs": [],
   "source": [
    "shaft_circle = plt.Circle(shaft_center, shaft_radius, color='r')\n",
    "deflected_roller_circle = plt.Circle(deflected_roller_center, roller_radius, color='r')\n",
    "\n",
    "plt.close()\n",
    "fig, ax = plt.subplots()\n",
    "plt.scatter(guess_r1[:, 0], guess_r1[:, 1])\n",
    "ax.add_patch(shaft_circle)\n",
    "ax.add_patch(deflected_roller_circle)\n",
    "\n",
    "\"\"\"X = np.linspace(0, 1)\n",
    "plt.scatter(list(map(lambda x: fixed_end(x)[0, 0], X)), \n",
    "            list(map(lambda x: fixed_end(x)[0, 1], X)))\n",
    "plt.scatter(list(map(lambda x: rolling_end_deflected(x)[0, 0], X)), \n",
    "            list(map(lambda x: rolling_end_deflected(x)[0, 1], X)))\n",
    "\"\"\"\n",
    "plt.title(\"Deflected Spring Initial Guess\")\n",
    "plt.axis('equal')\n",
    "plt.tight_layout()\n",
    "\n",
    "plt.show()"
   ]
  },
  {
   "cell_type": "code",
   "execution_count": null,
   "id": "53d5b3e4",
   "metadata": {},
   "outputs": [],
   "source": [
    "keep_out_test = np.zeros([50, 2])\n",
    "keep_out_test[:, 0] = np.linspace(0, 10) + neutral_roller_center[0]\n",
    "keep_out_test[:, 1] = np.linspace(0, 10) + neutral_roller_center[1]\n",
    "\n",
    "plt.close()\n",
    "neutral_roller_circle = plt.Circle(neutral_roller_center, roller_radius, color='r')\n",
    "fig, ax = plt.subplots()\n",
    "ax.add_patch(neutral_roller_circle)\n",
    "plt.scatter(keep_out_test[:, 0], keep_out_test[:, 1], \n",
    "            c=keep_out_check(keep_out_test, neutral_roller_center, roller_radius, endpoints=True), cmap='Pastel1')\n",
    "plt.title('Keep Out Penalty Test')\n",
    "plt.axis('equal')\n",
    "plt.tight_layout()\n",
    "plt.show()\n",
    "\n",
    "print(keep_out_test[0], keep_out_test[-1])"
   ]
  },
  {
   "cell_type": "code",
   "execution_count": null,
   "id": "e2e5b32a",
   "metadata": {},
   "outputs": [],
   "source": [
    "# Discretized vector calc functions\n",
    "\n",
    "def velocity(r):\n",
    "    # The curve's velocity as a function of the indexing\n",
    "    return (r[2:] - r[:-2])/2\n",
    "\n",
    "def acceleration(r):\n",
    "    # The curve's acceleration as a function of the indexing\n",
    "    return r[:-2] - 2*r[1:-1] + r[2:]\n",
    "\n",
    "def cross(v, a):\n",
    "    # The z component of the cross product that is proportional to the signed curvature\n",
    "    return (v[:, 0] * a[:, 1]) - (v[:, 1] * a[:, 0])\n",
    "\n",
    "def arc_length(r):\n",
    "    return (np.sqrt(np.sum((r[:-2] - r[1:-1])**2, axis=1)) + np.sqrt(np.sum((r[1:-1] - r[2:])**2, axis=1)))/2\n",
    "    \n",
    "def curvature(r):\n",
    "    # r is the position of the spring elements\n",
    "    s = arc_length(r)\n",
    "    return cross(velocity(r), acceleration(r)) / s**3"
   ]
  },
  {
   "cell_type": "code",
   "execution_count": null,
   "id": "47ffed54",
   "metadata": {},
   "outputs": [],
   "source": [
    "# Testing the vector calc functions\n",
    "i = np.linspace(0, np.pi*2, num=300)\n",
    "circle_path = np.zeros([i.shape[0], 2])\n",
    "circle_path[:, 0] = 3*np.cos(i)\n",
    "circle_path[:, 1] = 3*np.sin(i)\n",
    "\n",
    "vel_test = velocity(circle_path)\n",
    "acc_test = acceleration(circle_path)\n",
    "arc_test = arc_length(circle_path)\n",
    "crv_test = curvature(circle_path)"
   ]
  },
  {
   "cell_type": "code",
   "execution_count": null,
   "id": "1882c8bf",
   "metadata": {},
   "outputs": [],
   "source": [
    "plt.close()\n",
    "fig, ax = plt.subplots()\n",
    "plt.quiver(circle_path[1:-1:10, 0], circle_path[1:-1:10, 1], vel_test[::10, 0], vel_test[::10, 1])\n",
    "plt.axis('equal')\n",
    "plt.title('Velocity Test')\n",
    "plt.tight_layout()\n",
    "plt.show()"
   ]
  },
  {
   "cell_type": "code",
   "execution_count": null,
   "id": "a21ab061",
   "metadata": {},
   "outputs": [],
   "source": [
    "plt.close()\n",
    "fig, ax = plt.subplots()\n",
    "plt.quiver(circle_path[1:-1:10, 0], circle_path[1:-1:10, 1], acc_test[::10, 0], acc_test[::10, 1])\n",
    "plt.axis('equal')\n",
    "plt.title('Acceleration Test')\n",
    "plt.tight_layout()\n",
    "plt.show()"
   ]
  },
  {
   "cell_type": "code",
   "execution_count": null,
   "id": "25d08c02",
   "metadata": {},
   "outputs": [],
   "source": [
    "print(np.allclose(arc_test, arc_test[0]))\n",
    "print('Computed circumference: {:.3f}, Analytical circumference: {:.3f}'.format(np.sum(arc_test) + arc_test[0], \n",
    "                                                                               2*np.pi*3))"
   ]
  },
  {
   "cell_type": "code",
   "execution_count": null,
   "id": "0aad954b",
   "metadata": {},
   "outputs": [],
   "source": [
    "# Curvature should be the reciprocal of the radius\n",
    "print(np.allclose(crv_test, crv_test[0]))\n",
    "print(1/crv_test[0])\n",
    "print(1/curvature(circle_path[::-1])[0])"
   ]
  },
  {
   "cell_type": "code",
   "execution_count": null,
   "id": "9bbbd114",
   "metadata": {},
   "outputs": [],
   "source": [
    "def neutral_axis_displacement(k):\n",
    "    # Returns the maximum distance from the neutral axis for a curved section with curvature k\n",
    "    return np.nan_to_num((np.exp(-k*t)*(1+k*t)-1) / (k*(np.exp(-k*t)-1)), copy=False, nan=t/2)\n",
    "\n",
    "def flexural_strain(k0, k1, y):\n",
    "    # Increasing y represents fibers towards the center of curvature\n",
    "    return (k0 - k1) * y / (1 - np.abs(k0)*y)\n",
    "\n",
    "def tensile_strain(s0, s1):\n",
    "    return (s1 - s0) / s0"
   ]
  },
  {
   "cell_type": "code",
   "execution_count": null,
   "id": "8d9f54c9-dcdd-4a3d-a8c7-d0e4f935c998",
   "metadata": {},
   "outputs": [],
   "source": [
    "# Test the stress functions"
   ]
  },
  {
   "cell_type": "code",
   "execution_count": null,
   "id": "680727a6",
   "metadata": {},
   "outputs": [],
   "source": [
    "def stress(r0, r1):\n",
    "    s0 = arc_length(r0)\n",
    "    s1 = arc_length(r1)\n",
    "    k0 = curvature(r0)\n",
    "    k1 = curvature(r1)\n",
    "    \n",
    "    return (np.abs(flexural_strain(k0, k1, neutral_axis_displacement(k1))) +\n",
    "            E * np.abs(tensile_strain(s0, s1)) +\n",
    "            keep_out_penalty * (keep_out_check(r0, shaft_center, shaft_radius) +\n",
    "                                keep_out_check(r1, shaft_center, shaft_radius) +\n",
    "                                keep_out_check(r0, neutral_roller_center, roller_radius) +\n",
    "                                keep_out_check(r1, deflected_roller_center, roller_radius)))\n",
    "\n",
    "def stress_objective_func(x):\n",
    "    # x is the optimization parameters\n",
    "    # x[-1] is the fixed end position scalar\n",
    "    # x[-2] it the rolling end position scalar\n",
    "    # the next n elements are the x-components of the neutral spring\n",
    "    # the next n elements are the y-components of the netural spring\n",
    "    # the next n elements are the x-components of the deflected spring\n",
    "    # the next n elements are the y-components of the deflected spring    \n",
    "    r0 = np.zeros([n+4, 2])\n",
    "    r0[0:2] = fixed_end(x[-1])\n",
    "    r0[-2:] = rolling_end_neutral(x[-2])\n",
    "    r0[2:-2, 0] = x[:n]\n",
    "    r0[2:-2, 1] = x[n:2*n]\n",
    "    \n",
    "    r1 = np.copy(r0)\n",
    "    r1[-2:] = rolling_end_deflected(x[-2])\n",
    "    r1[2:-2, 0] = x[2*n:3*n]\n",
    "    r1[2:-2, 1] = x[3*n:4*n]\n",
    "\n",
    "    s = stress(r0, r1)\n",
    "    return 1e4*np.max(s) + np.sum(s)"
   ]
  },
  {
   "cell_type": "code",
   "execution_count": null,
   "id": "e3be76c7",
   "metadata": {},
   "outputs": [],
   "source": [
    "# Warning, running this cell will eat all your cpu resources for a bit\n",
    "\n",
    "bounds = Bounds(([-2]*n + [-10]*n)*2 + [0]*2,\n",
    "                ([15]*n + [3]*n)*2 + [1]*2)\n",
    "\n",
    "minimizer_kwargs = {\"method\": 'trust-constr', \"bounds\": bounds}\n",
    "\n",
    "np.seterr(divide='ignore', invalid='ignore')\n",
    "solution = basinhopping(stress_objective_func, x0, minimizer_kwargs=minimizer_kwargs)\n",
    "#solution = minimize(stress_objective_func, x0, method='trust-constr', bounds=limits)"
   ]
  },
  {
   "cell_type": "code",
   "execution_count": null,
   "id": "e6a39627",
   "metadata": {},
   "outputs": [],
   "source": [
    "# TODO plot the results of the optimization\n",
    "# TODO export the solution into an onshape friendly format, maybe a dxf file\n",
    "solution.x"
   ]
  },
  {
   "cell_type": "code",
   "execution_count": null,
   "id": "e8583385",
   "metadata": {},
   "outputs": [],
   "source": [
    "# Plot the solution\n",
    "\n",
    "sol_neutral = np.zeros([n+4, 2])\n",
    "sol_neutral[:2] = fixed_end(solution.x[-1])\n",
    "sol_neutral[-2:] = rolling_end_neutral(solution.x[-2])\n",
    "sol_neutral[2:-2, 0] = solution.x[:n]\n",
    "sol_neutral[2:-2, 1] = solution.x[n:2*n]\n",
    "\n",
    "plt.close()\n",
    "fig, ax = plt.subplots()\n",
    "plt.scatter(sol_neutral[:, 0], sol_neutral[:, 1])\n",
    "plt.plot(sol_neutral[:, 0], sol_neutral[:, 1])\n",
    "plt.tight_layout()\n",
    "plt.show()"
   ]
  },
  {
   "cell_type": "code",
   "execution_count": null,
   "id": "a8b350cf",
   "metadata": {},
   "outputs": [],
   "source": [
    "sol_deflected = np.zeros([n+4, 2])\n",
    "sol_deflected[:2] = fixed_end(solution.x[-1])\n",
    "sol_deflected[-2:] = rolling_end_deflected(solution.x[-2])\n",
    "sol_deflected[2:-2, 0] = solution.x[2*n:3*n]\n",
    "sol_deflected[2:-2, 1] = solution.x[3*n:4*n]\n",
    "\n",
    "plt.close()\n",
    "fig, ax = plt.subplots()\n",
    "plt.scatter(sol_deflected[1:-1, 0], sol_deflected[1:-1, 1], c=stress(sol_neutral, sol_deflected))\n",
    "plt.plot(sol_deflected[1:-1, 0], sol_deflected[1:-1, 1])\n",
    "plt.tight_layout()\n",
    "plt.show()"
   ]
  },
  {
   "cell_type": "code",
   "execution_count": null,
   "id": "1824474b",
   "metadata": {},
   "outputs": [],
   "source": [
    "stress(sol_neutral, sol_deflected)"
   ]
  },
  {
   "cell_type": "code",
   "execution_count": null,
   "id": "9f6b56f0",
   "metadata": {},
   "outputs": [],
   "source": [
    "flexural_strain(curvature(sol_neutral), curvature(sol_deflected), neutral_axis_displacement(curvature(sol_neutral)))"
   ]
  },
  {
   "cell_type": "code",
   "execution_count": null,
   "id": "d436ccb5",
   "metadata": {},
   "outputs": [],
   "source": [
    "tensile_strain(arc_length(sol_neutral), arc_length(sol_deflected)) * E"
   ]
  }
 ],
 "metadata": {
  "kernelspec": {
   "display_name": "Python 3 (ipykernel)",
   "language": "python",
   "name": "python3"
  },
  "language_info": {
   "codemirror_mode": {
    "name": "ipython",
    "version": 3
   },
   "file_extension": ".py",
   "mimetype": "text/x-python",
   "name": "python",
   "nbconvert_exporter": "python",
   "pygments_lexer": "ipython3",
   "version": "3.11.5"
  }
 },
 "nbformat": 4,
 "nbformat_minor": 5
}
