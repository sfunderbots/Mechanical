{
 "cells": [
  {
   "cell_type": "code",
   "execution_count": null,
   "id": "4e75aa23",
   "metadata": {},
   "outputs": [],
   "source": [
    "import numpy as np\n",
    "import matplotlib.pyplot as plt\n",
    "from scipy.optimize import minimize, Bounds, basinhopping"
   ]
  },
  {
   "cell_type": "code",
   "execution_count": null,
   "id": "4d1dc9de",
   "metadata": {},
   "outputs": [],
   "source": [
    "# Physical constraints\n",
    "E = 1e4  # Relative tensile modululs\n",
    "t = 1.2  # Spring thickness\n",
    "\n",
    "n = 20  # Number of spring elements to compute\n",
    "keep_out_penalty = 1e6\n",
    "\n",
    "# Geometry restrictions from the robot\n",
    "# Coordinate system based on the axis of the middle gear being the origin\n",
    "neutral_roller_center = np.array([17.58, -7.2])\n",
    "deflected_roller_center = np.array([18.62, 3.78])\n",
    "shaft_center = np.array([0, 0])\n",
    "\n",
    "roller_radius = 8\n",
    "shaft_radius = 5.5\n",
    "\n",
    "rolling_end_neutral_angle = 13.58 * np.pi / 180\n",
    "rolling_end_deflected_angle = 89 * np.pi / 180"
   ]
  },
  {
   "cell_type": "code",
   "execution_count": null,
   "id": "afd0947c",
   "metadata": {},
   "outputs": [],
   "source": [
    "def keep_out_check(r, origin, radius, endpoints=False):\n",
    "    if endpoints:\n",
    "        return np.sum((r - origin)**2, axis=1) < radius*radius\n",
    "    else:\n",
    "        return np.sum((r[1:-1] - origin)**2, axis=1) < radius*radius\n",
    "\n",
    "\n",
    "# Define the end points of the spring\n",
    "end_point_ds = 1\n",
    "\n",
    "fixed_end = np.array([1, -9.56])\n",
    "rolling_end_neutral = np.array([[13.7, 1],\n",
    "                                [13.7 + end_point_ds*np.cos(rolling_end_neutral_angle), 1 + end_point_ds*np.sin(rolling_end_neutral_angle)]])\n",
    "rolling_end_deflected = np.array([[9.7, 2.1],\n",
    "                                  [9.7 + end_point_ds*np.cos(rolling_end_deflected_angle), 2.1 + end_point_ds*np.sin(rolling_end_deflected_angle)]])"
   ]
  },
  {
   "cell_type": "code",
   "execution_count": null,
   "id": "8fc75297",
   "metadata": {},
   "outputs": [],
   "source": [
    "#  Neutral spring postion initial guess\n",
    "guess_r0 = np.zeros([n, 2])\n",
    "guess_r0[:, 0] = np.linspace(1, 13.7, num=n+1, endpoint=False)[1:]\n",
    "guess_r0[:, 1] = (guess_r0[:, 0] - 13.7) * (10.56 / 12.7) + 1\n",
    "\n",
    "#  Deflected spring position initial guess\n",
    "guess_r1 = np.zeros_like(guess_r0)\n",
    "guess_r1[:, 0] = np.linspace(1, 9.7, num=n+1, endpoint=False)[1:]\n",
    "guess_r1[:, 1] = (guess_r1[:, 0] - 9.7) * (11.66 / 8.7) + 2.1\n",
    "\n",
    "#  Initital Guess\n",
    "x0 = np.zeros(4*n)\n",
    "x0[:n] = guess_r0[:, 0]\n",
    "x0[n:2*n] = guess_r0[:, 1]\n",
    "x0[2*n:3*n] = guess_r1[:, 0]\n",
    "x0[3*n:4*n] = guess_r1[:, 1]"
   ]
  },
  {
   "cell_type": "code",
   "execution_count": null,
   "id": "0a0458bc",
   "metadata": {},
   "outputs": [],
   "source": [
    "#  Plot the initial guess and keep out zones\n",
    "shaft_circle = plt.Circle(shaft_center, shaft_radius, color='r')\n",
    "neutral_roller_circle = plt.Circle(neutral_roller_center, roller_radius, color='r')\n",
    "\n",
    "\n",
    "plt.close()\n",
    "fig, ax = plt.subplots()\n",
    "plt.scatter(guess_r0[:, 0], guess_r0[:, 1])\n",
    "ax.add_patch(shaft_circle)\n",
    "ax.add_patch(neutral_roller_circle)\n",
    "\n",
    "plt.scatter(fixed_end[0], fixed_end[1])\n",
    "plt.scatter(rolling_end_neutral[:, 0], rolling_end_neutral[:, 1])\n",
    "\n",
    "plt.title(\"Neutral Spring Initial Guess\")\n",
    "plt.axis('equal')\n",
    "plt.tight_layout()\n",
    "\n",
    "plt.show()"
   ]
  },
  {
   "cell_type": "code",
   "execution_count": null,
   "id": "328079a4",
   "metadata": {},
   "outputs": [],
   "source": [
    "shaft_circle = plt.Circle(shaft_center, shaft_radius, color='r')\n",
    "deflected_roller_circle = plt.Circle(deflected_roller_center, roller_radius, color='r')\n",
    "\n",
    "plt.close()\n",
    "fig, ax = plt.subplots()\n",
    "plt.scatter(guess_r1[:, 0], guess_r1[:, 1])\n",
    "ax.add_patch(shaft_circle)\n",
    "ax.add_patch(deflected_roller_circle)\n",
    "\n",
    "\n",
    "plt.scatter(fixed_end[0], fixed_end[1])\n",
    "plt.scatter(rolling_end_deflected[:, 0], rolling_end_deflected[:, 1])\n",
    "\n",
    "plt.title(\"Deflected Spring Initial Guess\")\n",
    "plt.axis('equal')\n",
    "plt.tight_layout()\n",
    "\n",
    "plt.show()"
   ]
  },
  {
   "cell_type": "code",
   "execution_count": null,
   "id": "e2e5b32a",
   "metadata": {},
   "outputs": [],
   "source": [
    "# Discretized vector calc functions\n",
    "\n",
    "def velocity(r):\n",
    "    # The curve's velocity as a function of the indexing\n",
    "    return (r[2:] - r[:-2])/2\n",
    "\n",
    "def acceleration(r):\n",
    "    # The curve's acceleration as a function of the indexing\n",
    "    return r[:-2] - 2*r[1:-1] + r[2:]\n",
    "\n",
    "def cross(v, a):\n",
    "    # The z component of the cross product that is proportional to the signed curvature\n",
    "    return (v[:, 0] * a[:, 1]) - (v[:, 1] * a[:, 0])\n",
    "\n",
    "def arc_length(r):\n",
    "    return (np.sqrt(np.sum((r[:-2] - r[1:-1])**2, axis=1)) + np.sqrt(np.sum((r[1:-1] - r[2:])**2, axis=1)))/2\n",
    "    \n",
    "def curvature(r):\n",
    "    # r is the position of the spring elements\n",
    "    s = arc_length(r)\n",
    "    return cross(velocity(r), acceleration(r)) / s**3"
   ]
  },
  {
   "cell_type": "code",
   "execution_count": null,
   "id": "9bbbd114",
   "metadata": {},
   "outputs": [],
   "source": [
    "# Stress functions\n",
    "\n",
    "def neutral_axis_displacement(k):\n",
    "    # Returns the distance from the netural axis to the inner edge for a curved beam with curvature k\n",
    "    # Here it is assumed k>=0\n",
    "    return np.divide(np.exp(-k*t)*(1+k*t)-1, k*(np.exp(-k*t)-1), where=(k!=0)) + t/2 * (k==0).astype(np.float64)\n",
    "\n",
    "def flexural_strain(k0, k1, y):\n",
    "    # Increasing y represents fibers towards the center of curvature\n",
    "    # k is signed to account for the case where a curved beam is made straight and then curves the other way\n",
    "    return (k0 - k1) * y / (1 - np.abs(k0)*y)\n",
    "\n",
    "def tensile_strain(s0, s1):\n",
    "    return (s1 - s0) / s0"
   ]
  },
  {
   "cell_type": "code",
   "execution_count": null,
   "id": "680727a6",
   "metadata": {},
   "outputs": [],
   "source": [
    "def stress(r0, r1):\n",
    "    s0 = arc_length(r0)\n",
    "    s1 = arc_length(r1)\n",
    "    k0 = curvature(r0)\n",
    "    k1 = curvature(r1)\n",
    "    \n",
    "    return (np.abs(flexural_strain(k0, k1, neutral_axis_displacement(np.abs(k1)))) +\n",
    "            E * np.abs(tensile_strain(s0, s1)) +\n",
    "            keep_out_penalty * (keep_out_check(r0, shaft_center, shaft_radius) +\n",
    "                                keep_out_check(r1, shaft_center, shaft_radius) +\n",
    "                                keep_out_check(r0, neutral_roller_center, roller_radius) +\n",
    "                                keep_out_check(r1, deflected_roller_center, roller_radius)))\n",
    "\n",
    "def stress_objective_func(x):\n",
    "    # x is the optimization parameters\n",
    "    # the first n elements are the x-components of the neutral spring\n",
    "    # the next n elements are the y-components of the netural spring\n",
    "    # the next n elements are the x-components of the deflected spring\n",
    "    # the next n elements are the y-components of the deflected spring    \n",
    "    r0 = np.zeros([n+3, 2])\n",
    "    r0[0] = fixed_end\n",
    "    r0[-2:] = rolling_end_neutral\n",
    "    r0[1:-2, 0] = x[:n]\n",
    "    r0[1:-2, 1] = x[n:2*n]\n",
    "    \n",
    "    r1 = np.copy(r0)\n",
    "    r1[-2:] = rolling_end_deflected \n",
    "    r1[1:-2, 0] = x[2*n:3*n]\n",
    "    r1[1:-2, 1] = x[3*n:4*n]\n",
    "\n",
    "    # TODO choose a much better objective function\n",
    "    p = 3\n",
    "    s = stress(r0, r1)\n",
    "    return np.sum(s**p)**(1/p)"
   ]
  },
  {
   "cell_type": "code",
   "execution_count": null,
   "id": "c33a58c2",
   "metadata": {},
   "outputs": [],
   "source": [
    "stress_objective_func(x0)"
   ]
  },
  {
   "cell_type": "code",
   "execution_count": null,
   "id": "e3be76c7",
   "metadata": {},
   "outputs": [],
   "source": [
    "# Warning, running this cell will eat all your cpu resources for a bit\n",
    "\n",
    "bounds = Bounds(([-2]*n + [-10]*n)*2,\n",
    "                ([15]*n + [3]*n)*2)\n",
    "\n",
    "minimizer_kwargs = {\"method\": 'trust-constr', \"bounds\": bounds}\n",
    "\n",
    "solution = basinhopping(stress_objective_func, x0, minimizer_kwargs=minimizer_kwargs)\n",
    "#solution = minimize(stress_objective_func, x0, method='trust-constr', bounds=bounds)"
   ]
  },
  {
   "cell_type": "code",
   "execution_count": null,
   "id": "e6a39627",
   "metadata": {},
   "outputs": [],
   "source": [
    "# TODO plot the results of the optimization\n",
    "# TODO export the solution into an onshape friendly format, maybe a dxf file"
   ]
  },
  {
   "cell_type": "code",
   "execution_count": null,
   "id": "e8583385",
   "metadata": {},
   "outputs": [],
   "source": [
    "# Plot the solution\n",
    "\n",
    "sol_neutral = np.zeros([n+3, 2])\n",
    "sol_neutral[0] = fixed_end\n",
    "sol_neutral[-2:] = rolling_end_neutral\n",
    "sol_neutral[1:-2, 0] = solution.x[:n]\n",
    "sol_neutral[1:-2, 1] = solution.x[n:2*n]\n",
    "\n",
    "plt.close()\n",
    "fig, ax = plt.subplots()\n",
    "plt.scatter(sol_neutral[:, 0], sol_neutral[:, 1])\n",
    "plt.plot(sol_neutral[:, 0], sol_neutral[:, 1])\n",
    "plt.tight_layout()\n",
    "plt.show()"
   ]
  },
  {
   "cell_type": "code",
   "execution_count": null,
   "id": "a8b350cf",
   "metadata": {},
   "outputs": [],
   "source": [
    "sol_deflected = np.zeros([n+3, 2])\n",
    "sol_deflected[0] = fixed_end\n",
    "sol_deflected[-2:] = rolling_end_deflected\n",
    "sol_deflected[1:-2, 0] = solution.x[2*n:3*n]\n",
    "sol_deflected[1:-2, 1] = solution.x[3*n:4*n]\n",
    "\n",
    "plt.close()\n",
    "fig, ax = plt.subplots()\n",
    "plt.scatter(sol_deflected[1:-1, 0], sol_deflected[1:-1, 1], c=stress(sol_neutral, sol_deflected))\n",
    "plt.plot(sol_deflected[1:-1, 0], sol_deflected[1:-1, 1])\n",
    "plt.tight_layout()\n",
    "plt.show()"
   ]
  },
  {
   "cell_type": "markdown",
   "id": "5326469e",
   "metadata": {},
   "source": [
    "# You don't need to run cells past this point these are sanity checks for the functions"
   ]
  },
  {
   "cell_type": "code",
   "execution_count": null,
   "id": "2ec8c9b6",
   "metadata": {},
   "outputs": [],
   "source": [
    "keep_out_test = np.zeros([50, 2])\n",
    "keep_out_test[:, 0] = np.linspace(0, 10) + neutral_roller_center[0]\n",
    "keep_out_test[:, 1] = np.linspace(0, 10) + neutral_roller_center[1]\n",
    "\n",
    "plt.close()\n",
    "neutral_roller_circle = plt.Circle(neutral_roller_center, roller_radius, color='r')\n",
    "fig, ax = plt.subplots()\n",
    "ax.add_patch(neutral_roller_circle)\n",
    "plt.scatter(keep_out_test[:, 0], keep_out_test[:, 1], \n",
    "            c=keep_out_check(keep_out_test, neutral_roller_center, roller_radius, endpoints=True), cmap='Pastel1')\n",
    "plt.title('Keep Out Penalty Test')\n",
    "plt.axis('equal')\n",
    "plt.colorbar()\n",
    "plt.tight_layout()\n",
    "plt.show()"
   ]
  },
  {
   "cell_type": "code",
   "execution_count": null,
   "id": "d6b7467c",
   "metadata": {},
   "outputs": [],
   "source": [
    "# Testing the vector calc functions\n",
    "theta = np.linspace(0, np.pi*2, num=300)\n",
    "circle_path = np.zeros([theta.shape[0], 2])\n",
    "circle_path[:, 0] = 3*np.cos(theta)\n",
    "circle_path[:, 1] = 3*np.sin(theta)\n",
    "\n",
    "vel_test = velocity(circle_path)\n",
    "acc_test = acceleration(circle_path)\n",
    "arc_test = arc_length(circle_path)\n",
    "crv_test = curvature(circle_path)"
   ]
  },
  {
   "cell_type": "code",
   "execution_count": null,
   "id": "5ec7ca66",
   "metadata": {},
   "outputs": [],
   "source": [
    "# Test the velocity function\n",
    "plt.close()\n",
    "fig, ax = plt.subplots()\n",
    "plt.quiver(circle_path[1:-1:10, 0], circle_path[1:-1:10, 1], vel_test[::10, 0], vel_test[::10, 1])\n",
    "plt.axis('equal')\n",
    "plt.title('Velocity Test')\n",
    "plt.tight_layout()\n",
    "plt.show()"
   ]
  },
  {
   "cell_type": "code",
   "execution_count": null,
   "id": "4ca1e90e",
   "metadata": {},
   "outputs": [],
   "source": [
    "# Test the acceleration function\n",
    "plt.close()\n",
    "fig, ax = plt.subplots()\n",
    "plt.quiver(circle_path[1:-1:10, 0], circle_path[1:-1:10, 1], acc_test[::10, 0], acc_test[::10, 1])\n",
    "plt.axis('equal')\n",
    "plt.title('Acceleration Test')\n",
    "plt.tight_layout()\n",
    "plt.show()"
   ]
  },
  {
   "cell_type": "code",
   "execution_count": null,
   "id": "9d583e17",
   "metadata": {},
   "outputs": [],
   "source": [
    "# Test the arc length function\n",
    "print(np.allclose(arc_test, arc_test[0]))\n",
    "print('Computed circumference: {:.3f}, Analytical circumference: {:.3f}'.format(np.sum(arc_test) + arc_test[0], \n",
    "                                                                               2*np.pi*3))"
   ]
  },
  {
   "cell_type": "code",
   "execution_count": null,
   "id": "566cc5e1",
   "metadata": {},
   "outputs": [],
   "source": [
    "# Test the curvature function\n",
    "# Curvature should be the reciprocal of the radius\n",
    "# and change sign when we trace it in the other direction\n",
    "print(np.allclose(crv_test, crv_test[0]))\n",
    "print(1/crv_test[0])\n",
    "print(1/curvature(circle_path[::-1])[0])"
   ]
  },
  {
   "cell_type": "code",
   "execution_count": null,
   "id": "7edd5d87",
   "metadata": {},
   "outputs": [],
   "source": [
    "# Test the stress functions\n",
    "plt.close()\n",
    "X = np.linspace(0, 20)\n",
    "plt.plot(X, neutral_axis_displacement(X))\n",
    "plt.title('Neutral axis position vs initial curvature')\n",
    "plt.xlabel('Neutral Axis Position')\n",
    "plt.ylabel('Initial Curvature')\n",
    "plt.tight_layout()\n",
    "plt.show()"
   ]
  },
  {
   "cell_type": "code",
   "execution_count": null,
   "id": "8f76f649",
   "metadata": {},
   "outputs": [],
   "source": [
    "X = np.linspace(-2/t, 2/t, num=200)\n",
    "Y = np.copy(X)\n",
    "\n",
    "K0, K1 = np.meshgrid(X, Y)\n",
    "\n",
    "plt.close()\n",
    "plt.contourf(K0, K1, np.abs(flexural_strain(K0, K1, neutral_axis_displacement(np.abs(K0)))))\n",
    "plt.colorbar()\n",
    "plt.title('Flexural Strain')\n",
    "plt.xlabel('Neutral Curvature')\n",
    "plt.ylabel('Deflected Curvature')\n",
    "plt.axis('scaled')\n",
    "plt.tight_layout()\n",
    "plt.show()"
   ]
  },
  {
   "cell_type": "code",
   "execution_count": null,
   "id": "6d135d8b",
   "metadata": {},
   "outputs": [],
   "source": [
    "# Tensile strain testing\n",
    "\n",
    "N = 50\n",
    "X = np.ones([N, 2])\n",
    "X[:, 0] = np.linspace(0, 3*np.pi, num=N)\n",
    "\n",
    "theta = np.linspace(0, np.pi, num=N)\n",
    "curved_path = np.zeros([X.shape[0], 2])\n",
    "curved_path[:, 0] = 3*np.cos(theta)\n",
    "curved_path[:, 1] = 3*np.sin(theta)\n",
    "\n",
    "tensile_test = tensile_strain(arc_length(X), arc_length(curved_path))\n",
    "print(np.allclose(tensile_test, tensile_test[0]))\n",
    "print(tensile_test[0])\n",
    "# Tensile strain error seems to go to zero as we increase N"
   ]
  },
  {
   "cell_type": "code",
   "execution_count": null,
   "id": "50df63e2",
   "metadata": {
    "scrolled": true
   },
   "outputs": [],
   "source": [
    "N = 50\n",
    "X = np.zeros([N, 2])\n",
    "X[:, 0] = np.linspace(0, 10, num=N)\n",
    "\n",
    "plt.close()\n",
    "plt.plot(X[1:-1, 0], tensile_strain(arc_length(X), arc_length(X*X)))\n",
    "plt.xlabel('X')\n",
    "plt.ylabel('Tensile Strain')\n",
    "plt.show()"
   ]
  }
 ],
 "metadata": {
  "kernelspec": {
   "display_name": "Python 3 (ipykernel)",
   "language": "python",
   "name": "python3"
  },
  "language_info": {
   "codemirror_mode": {
    "name": "ipython",
    "version": 3
   },
   "file_extension": ".py",
   "mimetype": "text/x-python",
   "name": "python",
   "nbconvert_exporter": "python",
   "pygments_lexer": "ipython3",
   "version": "3.10.12"
  }
 },
 "nbformat": 4,
 "nbformat_minor": 5
}
