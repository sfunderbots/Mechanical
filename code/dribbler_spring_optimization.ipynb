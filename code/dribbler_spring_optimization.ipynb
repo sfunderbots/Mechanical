{
 "cells": [
  {
   "cell_type": "code",
   "execution_count": 3,
   "id": "4e75aa23",
   "metadata": {},
   "outputs": [],
   "source": [
    "import numpy as np\n",
    "import matplotlib.pyplot as plt\n",
    "from scipy.optimize import minimize"
   ]
  },
  {
   "cell_type": "code",
   "execution_count": 4,
   "id": "4d1dc9de",
   "metadata": {},
   "outputs": [],
   "source": [
    "# Physical constraints\n",
    "E = 1000  # Relative tensile modululs\n",
    "t = 1.2  # Spring thickness\n",
    "\n",
    "\n",
    "n = 200  # Number of spring elements to compute\n",
    "keep_out_penalty = 1e9\n",
    "#  Undeflected spring postion initial guess\n",
    "#  Deflected spring position initial guess\n",
    "\n",
    "x0 = np.zeroes[4*n+2]\n",
    "\n",
    "neutral_roller_center = np.array([17.58, -7.2])\n",
    "deflected_roller_center = np.array([15.39, 3.13])\n",
    "shaft_center = np.array([0, 0])\n",
    "\n",
    "roller_radius = 8\n",
    "shaft_radius = 9\n",
    "\n",
    "rolling_end_neutral_angle = 13.58 * np.pi / 180\n",
    "rolling_end_deflected_angle = 89 * np.pi / 180\n",
    "\n",
    "fixed_end_domain_length = 6\n",
    "rolling_end_domain_length = 8.1"
   ]
  },
  {
   "cell_type": "code",
   "execution_count": 5,
   "id": "8e978cb2",
   "metadata": {},
   "outputs": [],
   "source": [
    "def keep_out_check(r, origin, radius):\n",
    "    return np.sum((r - origin)**2, axis=1) < radius\n",
    "\n",
    "def fixed_end(x):\n",
    "    return np.array([-2 + fixed_end_domain_length*x, -9.56])\n",
    "\n",
    "def rolling_end_neutral(x):\n",
    "    return np.array([13.7 + x*rolling_end_domain_length*np.cos(rolling_end_neutral_angle), \n",
    "                     1 + x*rolling_end_domain_length*np.sin(rolling_end_neutral_angle)])\n",
    "\n",
    "def rolling_end_deflected(x):\n",
    "    return np.array([9.7 + x*rolling_end_domain_length*np.cos(rolling_end_deflected_angle),  \n",
    "                     2.1 + x*rolling_end_domain_length*np.sin(rolling_end_deflected_angle)])"
   ]
  },
  {
   "cell_type": "code",
   "execution_count": 10,
   "id": "e2e5b32a",
   "metadata": {},
   "outputs": [],
   "source": [
    "def velocity(r):\n",
    "    # The curve's velocity as a function of the indexing\n",
    "    return (r[2:] - r[:-2])/2\n",
    "\n",
    "def acceleration(r):\n",
    "    # The curve's acceleration as a function of the indexing\n",
    "    return r[:-2] - 2*r[1:-1] + r[2:]\n",
    "\n",
    "def cross(v, a):\n",
    "    # The z component of the cross product that is proportional to the signed curvature\n",
    "    return (v[:, 0] * a[:, 1]) - (v[:, 1] * a[:, 0])\n",
    "\n",
    "def arc_length(r):\n",
    "    np.sqrt(np.sum((r[:-2] - r[1:-1])**2), axis=1) + np.sqrt(np.sum((r[1:-1] - r[2:])**2, axis=1))"
   ]
  },
  {
   "cell_type": "code",
   "execution_count": null,
   "id": "9bbbd114",
   "metadata": {},
   "outputs": [],
   "source": [
    "def curvature(r, s):\n",
    "    # r is the position of the spring elements\n",
    "    # s is the arc length of the corresponding spring elements\n",
    "    #     this could be computed from r but I am trying to avoid unecessarily recomputing it too many times\n",
    "    return cross(velocity(r), acceleration(r)) / s**3\n",
    "\n",
    "def neutral_axis_displacement(k):\n",
    "    # Returns the maximum distance from the neutral axis for a curved section with curvature k\n",
    "    # TODO saying the neutral axis is always in the center of the beam is not exactly correct and I'm not sure how\n",
    "    # big the error is at this moment\n",
    "    return np.ones_like(k) * t/2\n",
    "\n",
    "def flexural_strain(k0, k1, y):\n",
    "    return (k0  + k1) * y / (1 - k0*y)\n",
    "\n",
    "def tensile_strain(s0, s1):\n",
    "    return (s1 - s0) / s0"
   ]
  },
  {
   "cell_type": "code",
   "execution_count": null,
   "id": "b5157493",
   "metadata": {},
   "outputs": [],
   "source": [
    "def stress(r0, r1):\n",
    "    s0 = arc_length(r0)\n",
    "    s1 = arc_length(r1)\n",
    "    k0 = curvature(r0, s0)\n",
    "    k1 = curvature(r1, s1)\n",
    "    \n",
    "    return np.abs(flexural_strain(k0, k1, neutral_axis_displacement(k1))) +\n",
    "           E * np.abs(tensile_strain(s0, s1)) +\n",
    "           keep_out_penalty * (keep_out_check(r0, shaft_center, shaft_radius) +\n",
    "                               keep_out_check(r1, shaft_center, shaft_radius) +\n",
    "                               keep_out_check(r0, neutral_roller_center, roller_radius) +\n",
    "                               keep_out_check(r1, deflected_roller_center, roller_radius))\n",
    "\n",
    "def stress_objective_func(x):\n",
    "    # x is the optimization parameters\n",
    "    # x[-1] is the fixed end position scalar\n",
    "    # x[-2] it the rolling end position scalar\n",
    "    # the next n elements are the x-components of the neutral spring\n",
    "    # the next n elements are the y-components of the netural spring\n",
    "    # the next n elements are the x-components of the deflected spring\n",
    "    # the next n elements are the y-components of the deflected spring\n",
    "    r0 = np.zeroes(n+2, 2)\n",
    "    r0[0] = fixed_end(x[-1])\n",
    "    r0[-1] = rolling_end_neutral(x[-2])\n",
    "    r0[1:-1, 0] = x[:n]\n",
    "    r0[1:-1, 1] = x[n:2*n]\n",
    "    \n",
    "    r1 = np.copy(r0)\n",
    "    r1[-1] = rolling_end_deflected(x[-2])\n",
    "    r1[1:-1, 0] = x[2*n, 3*n]\n",
    "    r1[1:-1, 1] = x[3*n, 4*n]\n",
    "    \n",
    "    return np.max(stress(r0, r1))"
   ]
  },
  {
   "cell_type": "code",
   "execution_count": null,
   "id": "86052769",
   "metadata": {},
   "outputs": [],
   "source": [
    "# Put some testing here"
   ]
  },
  {
   "cell_type": "code",
   "execution_count": null,
   "id": "9913e66a",
   "metadata": {},
   "outputs": [],
   "source": [
    "bounds = [None] * 4*n + [(0, 1)] * 2\n",
    "\n",
    "solution = minimize(stress_objective_func, x0, bounds=bounds)"
   ]
  },
  {
   "cell_type": "code",
   "execution_count": null,
   "id": "0a3098fb",
   "metadata": {},
   "outputs": [],
   "source": [
    "# TODO implement an initial guess for the solution\n",
    "# TODO test to make sure all of the functions work as expected\n",
    "# TODO plot the results of the optimization\n",
    "# TODO export the solution into an onshape friendly format"
   ]
  }
 ],
 "metadata": {
  "kernelspec": {
   "display_name": "Python 3 (ipykernel)",
   "language": "python",
   "name": "python3"
  },
  "language_info": {
   "codemirror_mode": {
    "name": "ipython",
    "version": 3
   },
   "file_extension": ".py",
   "mimetype": "text/x-python",
   "name": "python",
   "nbconvert_exporter": "python",
   "pygments_lexer": "ipython3",
   "version": "3.10.12"
  }
 },
 "nbformat": 4,
 "nbformat_minor": 5
}
